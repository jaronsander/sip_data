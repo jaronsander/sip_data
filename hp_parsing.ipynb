{
 "cells": [
  {
   "cell_type": "code",
   "execution_count": 1,
   "metadata": {
    "collapsed": true
   },
   "outputs": [],
   "source": [
    "import librosa\n",
    "import numpy as np\n",
    "import matplotlib.pyplot as plt\n",
    "import os\n",
    "import soundfile as sf\n",
    "import shutil\n",
    "import pandas as pd"
   ]
  },
  {
   "cell_type": "code",
   "execution_count": 2,
   "outputs": [],
   "source": [
    "h_dir = 'harmonic_audio'\n",
    "os.mkdir(h_dir)\n",
    "p_dir = 'percussive_audio'\n",
    "os.mkdir(p_dir)\n",
    "dir_list = ['ambient','falls3', 'water_falls', 'tap_falls', 'talk_falls', 'shower_falls',\n",
    "                    'random_falls', 'quiet_falls', 'fan_falls', 'drip_falls', 'chair_falls','ambient_falls']"
   ],
   "metadata": {
    "collapsed": false
   }
  },
  {
   "cell_type": "code",
   "execution_count": 3,
   "outputs": [
    {
     "name": "stderr",
     "output_type": "stream",
     "text": [
      "/usr/local/lib/python3.10/site-packages/librosa/core/spectrum.py:256: UserWarning: n_fft=2048 is too large for input signal of length=1810\n",
      "  warnings.warn(\n"
     ]
    }
   ],
   "source": [
    "hop_length = 512\n",
    "for dir in dir_list:\n",
    "    h_s_dir = h_dir +'/'+dir\n",
    "    p_s_dir = p_dir +'/'+dir\n",
    "    os.mkdir(h_s_dir)\n",
    "    os.mkdir(p_s_dir)\n",
    "    for root,sfl,files in os.walk(dir):\n",
    "        for f in files:\n",
    "            y, sr = librosa.load(dir+'/'+f)\n",
    "            D = librosa.stft(y, hop_length=hop_length)\n",
    "            harm,perc = librosa.decompose.hpss(D)\n",
    "            y_harm = librosa.istft(harm, hop_length=hop_length)\n",
    "            sf.write(h_s_dir+'/'+f, y_harm, sr)\n",
    "            y_perc = librosa.istft(perc, hop_length=hop_length)\n",
    "            sf.write(p_s_dir+'/'+f, y_perc, sr)"
   ],
   "metadata": {
    "collapsed": false
   }
  },
  {
   "cell_type": "code",
   "execution_count": null,
   "outputs": [],
   "source": [],
   "metadata": {
    "collapsed": false
   }
  }
 ],
 "metadata": {
  "kernelspec": {
   "display_name": "Python 3",
   "language": "python",
   "name": "python3"
  },
  "language_info": {
   "codemirror_mode": {
    "name": "ipython",
    "version": 2
   },
   "file_extension": ".py",
   "mimetype": "text/x-python",
   "name": "python",
   "nbconvert_exporter": "python",
   "pygments_lexer": "ipython2",
   "version": "2.7.6"
  }
 },
 "nbformat": 4,
 "nbformat_minor": 0
}
